{
 "cells": [
  {
   "cell_type": "markdown",
   "metadata": {},
   "source": [
    "# Python_Screening_Assignment - 1"
   ]
  },
  {
   "cell_type": "markdown",
   "metadata": {},
   "source": [
    "### 1. Create a function in python to read the text file and replace specific content of the file.\n",
    "\n",
    "_example_\n",
    "\n",
    "- File name : example.txt\n",
    "- Origin file content : This is a placement assignment\n",
    "- Replace string : `Placement` should be replaced by `screening`.\n",
    "- Replaced file content : This is a screening assignment"
   ]
  },
  {
   "cell_type": "code",
   "execution_count": 1,
   "metadata": {},
   "outputs": [
    {
     "name": "stdout",
     "output_type": "stream",
     "text": [
      "File content : This is a placement assignment\n",
      "Replace string : This is a screening assignment\n",
      "String is replaced and file is saved successfully.\n"
     ]
    }
   ],
   "source": [
    "def replace_file_content(input_file):\n",
    "    \"\"\"\n",
    "    Description : This function is used to replace the\n",
    "    string 'Placement' to 'screening'.\n",
    "    \n",
    "    \"\"\"\n",
    "    try:\n",
    "#         read the file 'example.txt'\n",
    "        with open(input_file, 'rt') as file:\n",
    "#             read the text\n",
    "            print(f\"File content : {file.read()}\")\n",
    "#             goto the beginning of the file\n",
    "            file.seek(0)\n",
    "#             replace the string\n",
    "            data = file.read().replace('placement', 'screening')\n",
    "            print(f\"Replace string : {data}\")\n",
    "#             close the file\n",
    "            file.close()\n",
    "\n",
    "#         write the file\n",
    "        with open('replace_string_example.txt', 'w') as file:\n",
    "            file.write(data)\n",
    "    except Exception as e:\n",
    "        print(f\"Exception : {e}\")\n",
    "    else:\n",
    "        print(\"String is replaced and file is saved successfully.\")\n",
    "\n",
    "# 'replace_file_content' function call\n",
    "replace_file_content('example.txt')"
   ]
  },
  {
   "cell_type": "markdown",
   "metadata": {},
   "source": [
    "### 2. Demonstrate use of abstract class, multiple inheritance and decorator in python using examples."
   ]
  },
  {
   "cell_type": "code",
   "execution_count": 2,
   "metadata": {},
   "outputs": [],
   "source": [
    "import os\n",
    "import logging"
   ]
  },
  {
   "cell_type": "code",
   "execution_count": 3,
   "metadata": {},
   "outputs": [],
   "source": [
    "class LogMyLogs:\n",
    "\n",
    "    def __init__(self, filename) -> None:\n",
    "        \"\"\"\n",
    "        Description : The 'LogMyLogs' class is used to keep logs \n",
    "        of info, warning, error, exception and debug.\n",
    "    \n",
    "        \"\"\"\n",
    "        self.LOG_FILE_NAME = filename\n",
    "        self.LOG_DIR = os.path.join(\"logFiles\")\n",
    "        self.LOG_FILE_PATH = os.path.join(self.LOG_DIR, self.LOG_FILE_NAME)\n",
    "        \n",
    "        os.makedirs(self.LOG_DIR, exist_ok=True) # make log folder\n",
    "        \n",
    "        logging.basicConfig(filename = self.LOG_FILE_PATH, \n",
    "                            level = logging.INFO, \n",
    "                            format = '%(levelname)s : %(name)s : [%(asctime)s] :  %(message)s')\n",
    "\n",
    "    def infoLog(self, msg) -> None:\n",
    "        \"\"\"\n",
    "        Description : This method is used to keep logs \n",
    "        of info logs.\n",
    "    \n",
    "        \"\"\"\n",
    "        logging.info(msg)\n",
    "\n",
    "    def warningLog(self, msg) -> None:\n",
    "        \"\"\"\n",
    "        Description : This method is used to keep logs \n",
    "        of warning logs.\n",
    "    \n",
    "        \"\"\"\n",
    "        logging.warning(msg)\n",
    "\n",
    "    def errorLog(self, msg) -> None:\n",
    "        \"\"\"\n",
    "        Description : This method is used to keep logs \n",
    "        of error logs.\n",
    "    \n",
    "        \"\"\"\n",
    "        logging.error(msg)\n",
    "\n",
    "    def exceptionLog(self, msg) -> None:\n",
    "        \"\"\"\n",
    "        Description : This method is used to keep logs \n",
    "        of exception logs.\n",
    "    \n",
    "        \"\"\"\n",
    "        logging.exception(msg)\n",
    "\n",
    "    def debugLog(self, msg) -> None:\n",
    "        \"\"\"\n",
    "        Description : This method is used to keep logs \n",
    "        of debug logs.\n",
    "    \n",
    "        \"\"\"\n",
    "        logging.basicConfig(filename = self.LOG_FILE_PATH, \n",
    "                            level = logging.DEBUG, \n",
    "                            format = '%(levelname)s : %(name)s : [%(asctime)s] : %(message)s')\n",
    "        logging.debug(msg)\n",
    "\n"
   ]
  },
  {
   "cell_type": "code",
   "execution_count": 4,
   "metadata": {},
   "outputs": [],
   "source": [
    "class EmployeeDetails(LogMyLogs):\n",
    "    \n",
    "    def __init__(self) -> None:\n",
    "        \"\"\"\n",
    "        Description : The 'EmployeeDetails' class is used to  \n",
    "        select, insert, update and delete employee information.\n",
    "    \n",
    "        \"\"\"\n",
    "        LogMyLogs.__init__(self, 'EmployeeDetailsLogs.log') # inherit LogMyLogs class\n",
    "        self.infoLog('EmployeeDetails class is initialized')\n",
    "        self.emp_details = []\n",
    "        \n",
    "    def insert_emp_info(self, emp_info) -> None:\n",
    "        \"\"\"\n",
    "        Description : This method is used to insert employee \n",
    "        information.\n",
    "    \n",
    "        \"\"\"\n",
    "        if type(emp_info) == dict:\n",
    "            self.emp_details.append(emp_info)\n",
    "            self.infoLog('Employee details inserted successfully.')\n",
    "        else:\n",
    "            self.warningLog(f\"Employee information is invalid data type [{type(emp_info)}]. Insert dictionary data type only.\")\n",
    "            \n",
    "    @staticmethod # decorator\n",
    "    def select_emp_info(emp_object):\n",
    "        \"\"\"\n",
    "        Description : This method is used to display employee \n",
    "        information.\n",
    "    \n",
    "        \"\"\"\n",
    "        print(emp_obj.emp_details)\n",
    "\n",
    "    def update_emp_info(self, condition, info) -> None:\n",
    "        \"\"\"\n",
    "        Description : This method is used to update employee \n",
    "        information.\n",
    "    \n",
    "        \"\"\"\n",
    "        if type(condition) == dict and type(info) == dict and len(condition) != 0 and len(info) != 0:\n",
    "            if len(condition) == 1:\n",
    "                key, val = list(condition.keys())[0], list(condition.values())[0]\n",
    "                for emp_info in self.emp_details:\n",
    "                    if emp_info[key] == val:\n",
    "                        emp_info.update(info)\n",
    "                        self.infoLog('Employee details updated successfully.')            \n",
    "            else:\n",
    "                for emp_info in self.emp_details:\n",
    "                    if all(emp_info[key] == val for key, val in condition.items()):\n",
    "                        emp_info.update(info)\n",
    "                        self.infoLog('Employee details updated successfully.')\n",
    "        else:\n",
    "            self.warningLog(f\"The condition or infomation is invalid.\")\n",
    "            \n",
    "    def delete_emp_info(self, condition) -> None:\n",
    "        \"\"\"\n",
    "        Description : This method is used to delete employee \n",
    "        information.\n",
    "    \n",
    "        \"\"\"\n",
    "        if type(condition) == dict and len(condition) != 0:\n",
    "            for emp_info in self.emp_details:\n",
    "                if all(emp_info[key] == val for key, val in condition.items()):\n",
    "                    self.emp_details.remove(emp_info)\n",
    "                    self.infoLog('Employee details deleted successfully.')            \n",
    "        else:\n",
    "            self.warningLog(f\"The condition or infomation is invalid.\")\n",
    "        \n"
   ]
  },
  {
   "cell_type": "code",
   "execution_count": 5,
   "metadata": {},
   "outputs": [],
   "source": [
    "# create class object\n",
    "emp_obj = EmployeeDetails()"
   ]
  },
  {
   "cell_type": "code",
   "execution_count": 6,
   "metadata": {},
   "outputs": [],
   "source": [
    "# insert information\n",
    "emp_obj.insert_emp_info({'name':'kiran', 'age': 34, 'salary': 35000})\n",
    "emp_obj.insert_emp_info({'name':'kamal', 'age': 26, 'salary': 45000, 'address': 'borivali'})\n",
    "emp_obj.insert_emp_info({'name':'sunil', 'age': 22, 'salary': 55000})"
   ]
  },
  {
   "cell_type": "code",
   "execution_count": 7,
   "metadata": {},
   "outputs": [
    {
     "name": "stdout",
     "output_type": "stream",
     "text": [
      "[{'name': 'kiran', 'age': 34, 'salary': 35000}, {'name': 'kamal', 'age': 26, 'salary': 45000, 'address': 'borivali'}, {'name': 'sunil', 'age': 22, 'salary': 55000}]\n"
     ]
    }
   ],
   "source": [
    "# display data\n",
    "EmployeeDetails.select_emp_info(emp_obj)"
   ]
  },
  {
   "cell_type": "code",
   "execution_count": 8,
   "metadata": {},
   "outputs": [
    {
     "name": "stdout",
     "output_type": "stream",
     "text": [
      "[{'name': 'kiran', 'age': 24, 'salary': 35000, 'address': 'mumbai'}, {'name': 'kamal', 'age': 26, 'salary': 45000, 'address': 'borivali'}, {'name': 'sunil', 'age': 22, 'salary': 55000}]\n"
     ]
    }
   ],
   "source": [
    "# update information\n",
    "condition = {'name': 'kiran'}\n",
    "info = {'age': 24, 'address': 'mumbai'}\n",
    "emp_obj.update_emp_info(condition, info)\n",
    "EmployeeDetails.select_emp_info(emp_obj)"
   ]
  },
  {
   "cell_type": "code",
   "execution_count": 9,
   "metadata": {},
   "outputs": [
    {
     "name": "stdout",
     "output_type": "stream",
     "text": [
      "[{'name': 'kiran', 'age': 24, 'salary': 35000, 'address': 'mumbai'}, {'name': 'kamal', 'age': 34, 'salary': 45000, 'address': 'thane'}, {'name': 'sunil', 'age': 22, 'salary': 55000}]\n"
     ]
    }
   ],
   "source": [
    "condition = {'name': 'kamal', 'age': 26}\n",
    "info = {'age': 34, 'address': 'thane'}\n",
    "emp_obj.update_emp_info(condition, info)\n",
    "EmployeeDetails.select_emp_info(emp_obj)"
   ]
  },
  {
   "cell_type": "code",
   "execution_count": 10,
   "metadata": {},
   "outputs": [
    {
     "name": "stdout",
     "output_type": "stream",
     "text": [
      "[{'name': 'kiran', 'age': 24, 'salary': 35000, 'address': 'mumbai'}, {'name': 'sunil', 'age': 22, 'salary': 55000}]\n"
     ]
    }
   ],
   "source": [
    "# delete information\n",
    "condition = {'name': 'kamal', 'age': 34}\n",
    "emp_obj.delete_emp_info(condition)\n",
    "EmployeeDetails.select_emp_info(emp_obj)"
   ]
  },
  {
   "cell_type": "code",
   "execution_count": null,
   "metadata": {},
   "outputs": [],
   "source": []
  }
 ],
 "metadata": {
  "kernelspec": {
   "display_name": "Python 3",
   "language": "python",
   "name": "python3"
  },
  "language_info": {
   "codemirror_mode": {
    "name": "ipython",
    "version": 3
   },
   "file_extension": ".py",
   "mimetype": "text/x-python",
   "name": "python",
   "nbconvert_exporter": "python",
   "pygments_lexer": "ipython3",
   "version": "3.6.7"
  }
 },
 "nbformat": 4,
 "nbformat_minor": 2
}
